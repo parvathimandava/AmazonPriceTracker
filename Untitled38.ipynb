{
  "nbformat": 4,
  "nbformat_minor": 0,
  "metadata": {
    "colab": {
      "name": "Untitled38.ipynb",
      "provenance": [],
      "include_colab_link": true
    },
    "kernelspec": {
      "name": "python3",
      "display_name": "Python 3"
    }
  },
  "cells": [
    {
      "cell_type": "markdown",
      "metadata": {
        "id": "view-in-github",
        "colab_type": "text"
      },
      "source": [
        "<a href=\"https://colab.research.google.com/github/parvathimandava/AmazonPriceTracker/blob/master/Untitled38.ipynb\" target=\"_parent\"><img src=\"https://colab.research.google.com/assets/colab-badge.svg\" alt=\"Open In Colab\"/></a>"
      ]
    },
    {
      "cell_type": "markdown",
      "metadata": {
        "id": "nG2IYAZm4KsN"
      },
      "source": [
        "Q1. Write a python Program to find the Sum of number digits.\n",
        "\n",
        "1.   List item\n",
        "2.   List item\n",
        "\n",
        "\n",
        "Ex.  number = 456\n",
        "Output = 15 "
      ]
    },
    {
      "cell_type": "code",
      "metadata": {
        "id": "KETRzqAu4CAQ",
        "colab": {
          "base_uri": "https://localhost:8080/"
        },
        "outputId": "0471dc71-cf7a-43ba-cf65-9fb18284e653"
      },
      "source": [
        "n=list(map(int,input().strip()))\r\n",
        "print(sum(n)) "
      ],
      "execution_count": 1,
      "outputs": [
        {
          "output_type": "stream",
          "text": [
            "456\n",
            "15\n"
          ],
          "name": "stdout"
        }
      ]
    },
    {
      "cell_type": "markdown",
      "metadata": {
        "id": "hZ9o3piI4kxI"
      },
      "source": [
        "Q2. Write a python Program ] to print duplicates from a list of integers. \n"
      ]
    },
    {
      "cell_type": "markdown",
      "metadata": {
        "id": "i5ukwQtx4-6y"
      },
      "source": [
        "Ex. Input : list = [10, 20, 30, 20, 20, 30, 40, 50, -20, 60, 60, -20, -20]"
      ]
    },
    {
      "cell_type": "markdown",
      "metadata": {
        "id": "XzW4FJmm5IUF"
      },
      "source": [
        "Output : output_list = [20, 30, -20, 60]"
      ]
    },
    {
      "cell_type": "code",
      "metadata": {
        "id": "PKPnR0nE5MDQ",
        "colab": {
          "base_uri": "https://localhost:8080/"
        },
        "outputId": "a767eeca-fb23-4807-cd41-b9ffe44dbf60"
      },
      "source": [
        "def Repeat(x):\r\n",
        "    _size = len(x)\r\n",
        "    repeated = []\r\n",
        "    for i in range(_size):\r\n",
        "        k = i + 1\r\n",
        "        for j in range(k, _size):\r\n",
        "            if x[i] == x[j] and x[i] not in repeated:\r\n",
        "                repeated.append(x[i])\r\n",
        "    return repeated\r\n",
        " \r\n",
        "# Driver Code\r\n",
        "list1 = [10, 20, 30, 20, 20, 30, 40, \r\n",
        "         50, -20, 60, 60, -20, -20]\r\n",
        "print (Repeat(list1)) "
      ],
      "execution_count": 6,
      "outputs": [
        {
          "output_type": "stream",
          "text": [
            "[20, 30, -20, 60]\n"
          ],
          "name": "stdout"
        }
      ]
    },
    {
      "cell_type": "markdown",
      "metadata": {
        "id": "_rU5NSCn5oe_"
      },
      "source": [
        "Q3. Write a python Program to print ASCII Value of a character"
      ]
    },
    {
      "cell_type": "markdown",
      "metadata": {
        "id": "Exng5t3o5vS9"
      },
      "source": [
        "Input : a \n",
        "Output : 97"
      ]
    },
    {
      "cell_type": "code",
      "metadata": {
        "id": "V9SWCa1-50xe",
        "colab": {
          "base_uri": "https://localhost:8080/"
        },
        "outputId": "454d0728-d15b-408d-85eb-9951560b8881"
      },
      "source": [
        "ch = input(\"Enter any character: \")\r\n",
        "\r\n",
        "print(ord(ch))"
      ],
      "execution_count": 7,
      "outputs": [
        {
          "output_type": "stream",
          "text": [
            "Enter any character: a\n",
            "97\n"
          ],
          "name": "stdout"
        }
      ]
    }
  ]
}