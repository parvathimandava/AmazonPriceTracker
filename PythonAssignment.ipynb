{
  "nbformat": 4,
  "nbformat_minor": 0,
  "metadata": {
    "colab": {
      "name": "PythonAssignment.ipynb",
      "provenance": [],
      "include_colab_link": true
    },
    "kernelspec": {
      "name": "python3",
      "display_name": "Python 3"
    }
  },
  "cells": [
    {
      "cell_type": "markdown",
      "metadata": {
        "id": "view-in-github",
        "colab_type": "text"
      },
      "source": [
        "<a href=\"https://colab.research.google.com/github/parvathimandava/AmazonPriceTracker/blob/master/PythonAssignment.ipynb\" target=\"_parent\"><img src=\"https://colab.research.google.com/assets/colab-badge.svg\" alt=\"Open In Colab\"/></a>"
      ]
    },
    {
      "cell_type": "markdown",
      "metadata": {
        "id": "ZpHi5QHDt3aL"
      },
      "source": [
        "Given an array A containing n integers. The task is to check whether the array is Monotonic or not. \n",
        "\n",
        "An array is monotonic if it is either monotone increasing or monotone decreasing.\n",
        "\n",
        "Input : 6 5 4 4\n",
        "\n",
        "Output : true\n",
        "\n",
        "Input : 5 15 20 10\n",
        "\n",
        "Output : false\n"
      ]
    },
    {
      "cell_type": "code",
      "metadata": {
        "id": "FmhNE79LuZBz",
        "outputId": "ca01b10f-cd4f-4248-e3ea-3772143011cb",
        "colab": {
          "base_uri": "https://localhost:8080/",
          "height": 51
        }
      },
      "source": [
        "def isMonotonic(A): \n",
        "  \n",
        "    return (all(int(A[i]) <= int(A[i + 1]) for i in range(len(A) - 1)) or\n",
        "            all(int(A[i]) >= int(A[i + 1]) for i in range(len(A) - 1))) \n",
        "  \n",
        "# Driver program \n",
        "A = input().split()\n",
        "  \n",
        "# Print required result \n",
        "print(isMonotonic(A)) \n",
        "\n"
      ],
      "execution_count": 21,
      "outputs": [
        {
          "output_type": "stream",
          "text": [
            "5 15 20 10\n",
            "False\n"
          ],
          "name": "stdout"
        }
      ]
    },
    {
      "cell_type": "markdown",
      "metadata": {
        "id": "fhq2yDwhu-7P"
      },
      "source": [
        "Write a program to find Cumulative sum of a list. \n",
        "\n",
        "Input : list = [10, 20, 30, 40, 50]\n",
        "\n",
        "Output : [10, 30, 60, 100, 150]\n"
      ]
    },
    {
      "cell_type": "code",
      "metadata": {
        "id": "xn8BYpOJv3Rn",
        "outputId": "dc25fec1-6b51-48da-db48-5dd84f94e6f9",
        "colab": {
          "base_uri": "https://localhost:8080/",
          "height": 34
        }
      },
      "source": [
        "list=[10,20,30,40,50]\n",
        "\n",
        "list_out=[list[0]]\n",
        "sum=list[0]\n",
        "for x in range(1,len(list)):\n",
        "  sum+=list[x]\n",
        "  list_out.append(sum)\n",
        "print(list_out)\n"
      ],
      "execution_count": 10,
      "outputs": [
        {
          "output_type": "stream",
          "text": [
            "[10, 30, 60, 100, 150]\n"
          ],
          "name": "stdout"
        }
      ]
    },
    {
      "cell_type": "markdown",
      "metadata": {
        "id": "IIljg2dhw-5f"
      },
      "source": [
        "Given a string. The task is to print all words with even length in the given string.\n",
        "\n",
        "Input: s = \"This is a python language\"\n",
        "\n",
        "Output:\n",
        "\n",
        "        This\n",
        "\n",
        "        is\n",
        "\n",
        "        python\n",
        "\n",
        "        language \n",
        "                        "
      ]
    },
    {
      "cell_type": "code",
      "metadata": {
        "id": "B1A9W02kx1ys",
        "outputId": "1db94ec7-cc7e-4e65-c115-d716dc35ff52",
        "colab": {
          "base_uri": "https://localhost:8080/",
          "height": 85
        }
      },
      "source": [
        "s=\"This is a python language\"\n",
        "list_1=s.split()\n",
        "for x in list_1:\n",
        "  if len(x)%2==0:\n",
        "    print(x)\n",
        "\n"
      ],
      "execution_count": 7,
      "outputs": [
        {
          "output_type": "stream",
          "text": [
            "This\n",
            "is\n",
            "python\n",
            "language\n"
          ],
          "name": "stdout"
        }
      ]
    }
  ]
}